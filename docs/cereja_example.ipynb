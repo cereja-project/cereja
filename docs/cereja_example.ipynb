{
  "nbformat": 4,
  "nbformat_minor": 0,
  "metadata": {
    "colab": {
      "name": "cereja_example.ipynb",
      "provenance": [],
      "collapsed_sections": [],
      "toc_visible": true,
      "include_colab_link": true
    },
    "kernelspec": {
      "name": "python3",
      "display_name": "Python 3"
    }
  },
  "cells": [
    {
      "cell_type": "markdown",
      "metadata": {
        "id": "view-in-github",
        "colab_type": "text"
      },
      "source": [
        "<a href=\"https://colab.research.google.com/github/jlsneto/cereja/blob/master/docs/cereja_example.ipynb\" target=\"_parent\"><img src=\"https://colab.research.google.com/assets/colab-badge.svg\" alt=\"Open In Colab\"/></a>"
      ]
    },
    {
      "cell_type": "markdown",
      "metadata": {
        "id": "8OIpCsdKwlet"
      },
      "source": [
        "#Install cereja"
      ]
    },
    {
      "cell_type": "code",
      "metadata": {
        "id": "B1qNEuxZwVs_",
        "outputId": "a4121e56-d81c-449a-fbc9-c33359566aab",
        "colab": {
          "base_uri": "https://localhost:8080/",
          "height": 121
        }
      },
      "source": [
        "!pip install cereja --upgrade"
      ],
      "execution_count": 1,
      "outputs": [
        {
          "output_type": "stream",
          "text": [
            "Collecting cereja\n",
            "\u001b[?25l  Downloading https://files.pythonhosted.org/packages/b2/45/1f021fbfc25169fbd3b12b3b8e5d60afc121485860faeb101b7c03bc06b6/cereja-1.2.4-py3-none-any.whl (66kB)\n",
            "\r\u001b[K     |█████                           | 10kB 17.2MB/s eta 0:00:01\r\u001b[K     |██████████                      | 20kB 2.8MB/s eta 0:00:01\r\u001b[K     |██████████████▉                 | 30kB 3.8MB/s eta 0:00:01\r\u001b[K     |███████████████████▉            | 40kB 4.2MB/s eta 0:00:01\r\u001b[K     |████████████████████████▉       | 51kB 3.2MB/s eta 0:00:01\r\u001b[K     |█████████████████████████████▊  | 61kB 3.7MB/s eta 0:00:01\r\u001b[K     |████████████████████████████████| 71kB 2.8MB/s \n",
            "\u001b[?25hInstalling collected packages: cereja\n",
            "Successfully installed cereja-1.2.4\n"
          ],
          "name": "stdout"
        }
      ]
    },
    {
      "cell_type": "markdown",
      "metadata": {
        "id": "B-6AKLqiwuGR"
      },
      "source": [
        "#Import cereja"
      ]
    },
    {
      "cell_type": "code",
      "metadata": {
        "id": "KhRIV54DxZ6Z",
        "outputId": "ce20312a-937d-4e2e-d0bd-f1314731c8da",
        "colab": {
          "base_uri": "https://localhost:8080/",
          "height": 34
        }
      },
      "source": [
        "import cereja as cj"
      ],
      "execution_count": 2,
      "outputs": [
        {
          "output_type": "stream",
          "text": [
            "\u001b[31m🍒\u001b[30m Using Cereja v.1.2.4\n"
          ],
          "name": "stdout"
        }
      ]
    },
    {
      "cell_type": "markdown",
      "metadata": {
        "id": "_FvoFjndxKIk"
      },
      "source": [
        "##Commons"
      ]
    },
    {
      "cell_type": "markdown",
      "metadata": {
        "id": "2lxP-3C2tIZB"
      },
      "source": [
        "###is_iterable\n",
        "return whether an object is iterable or not."
      ]
    },
    {
      "cell_type": "code",
      "metadata": {
        "id": "w_6TLC0DxI1f",
        "cellView": "both",
        "outputId": "124971da-dcee-4fd9-ac2b-e4aed35335be",
        "colab": {
          "base_uri": "https://localhost:8080/",
          "height": 34
        }
      },
      "source": [
        "my_var = [1,2,3] # change value and execute the cell\n",
        "cj.is_iterable(my_var)"
      ],
      "execution_count": 3,
      "outputs": [
        {
          "output_type": "execute_result",
          "data": {
            "text/plain": [
              "True"
            ]
          },
          "metadata": {
            "tags": []
          },
          "execution_count": 3
        }
      ]
    },
    {
      "cell_type": "code",
      "metadata": {
        "id": "bSJ69PuWiYGx",
        "outputId": "19e9e1f8-cd03-4f82-a2c5-84b77acb8cef",
        "colab": {
          "base_uri": "https://localhost:8080/",
          "height": 34
        }
      },
      "source": [
        "cj.is_iterable('hi')"
      ],
      "execution_count": 4,
      "outputs": [
        {
          "output_type": "execute_result",
          "data": {
            "text/plain": [
              "True"
            ]
          },
          "metadata": {
            "tags": []
          },
          "execution_count": 4
        }
      ]
    },
    {
      "cell_type": "markdown",
      "metadata": {
        "id": "rCjh0owqhhUb"
      },
      "source": [
        "###is_sequence\n",
        "\n",
        "Return whether an object a Sequence or not, exclude strings."
      ]
    },
    {
      "cell_type": "code",
      "metadata": {
        "id": "tAPeDiyRhzWS",
        "outputId": "3a255b20-ec10-4f6e-e7a9-6cef52fb9b7d",
        "colab": {
          "base_uri": "https://localhost:8080/",
          "height": 34
        }
      },
      "source": [
        "cj.is_sequence([1,2,3])"
      ],
      "execution_count": 5,
      "outputs": [
        {
          "output_type": "execute_result",
          "data": {
            "text/plain": [
              "True"
            ]
          },
          "metadata": {
            "tags": []
          },
          "execution_count": 5
        }
      ]
    },
    {
      "cell_type": "code",
      "metadata": {
        "id": "QrFmt6iOicEL",
        "outputId": "0fbd306c-db30-4092-87be-a84fbbd43fcb",
        "colab": {
          "base_uri": "https://localhost:8080/",
          "height": 34
        }
      },
      "source": [
        "cj.is_sequence('hi')"
      ],
      "execution_count": 6,
      "outputs": [
        {
          "output_type": "execute_result",
          "data": {
            "text/plain": [
              "False"
            ]
          },
          "metadata": {
            "tags": []
          },
          "execution_count": 6
        }
      ]
    },
    {
      "cell_type": "markdown",
      "metadata": {
        "id": "q88o7iwCinDY"
      },
      "source": [
        "###theta_angle\n",
        "\n",
        "Calculates and returns theta angle between two vectors"
      ]
    },
    {
      "cell_type": "code",
      "metadata": {
        "id": "f547KjDWisWw",
        "outputId": "cc9e87db-78f8-4c77-f3b4-f69faa3f9053",
        "colab": {
          "base_uri": "https://localhost:8080/",
          "height": 34
        }
      },
      "source": [
        "u = (2,2)\n",
        "v = (0, -2)\n",
        "cj.theta_angle(u, v)"
      ],
      "execution_count": 7,
      "outputs": [
        {
          "output_type": "execute_result",
          "data": {
            "text/plain": [
              "135.0"
            ]
          },
          "metadata": {
            "tags": []
          },
          "execution_count": 7
        }
      ]
    },
    {
      "cell_type": "markdown",
      "metadata": {
        "id": "Ho09h5KStktn"
      },
      "source": [
        "###group_items_in_batches\n",
        "responsible for grouping items in batch taking into account the quantity of items per batch"
      ]
    },
    {
      "cell_type": "code",
      "metadata": {
        "id": "TXgvv3b2y1A9",
        "outputId": "903c77ac-6b69-45d9-f7ba-fa2d5ff58ba1",
        "colab": {
          "base_uri": "https://localhost:8080/",
          "height": 34
        }
      },
      "source": [
        "my_var = [1,2,3,4]\n",
        "num_items_per_batch = 4\n",
        "result = cj.group_items_in_batches(items=my_var, items_per_batch=num_items_per_batch)\n",
        "print(f\"items per batch with leftovers: {result}\")"
      ],
      "execution_count": 8,
      "outputs": [
        {
          "output_type": "stream",
          "text": [
            "items per batch with leftovers: [[1, 2, 3, 4]]\n"
          ],
          "name": "stdout"
        }
      ]
    },
    {
      "cell_type": "code",
      "metadata": {
        "id": "YWvTGuECtwHj",
        "outputId": "8088d51a-b232-48c0-f5ba-8aa57edc4e65",
        "colab": {
          "base_uri": "https://localhost:8080/",
          "height": 34
        }
      },
      "source": [
        "\"\"\"\n",
        "Note that the last batch does not contain the same number as the previous batch,\n",
        "this is due to the split split. You can choose to fill this void as in the example below.\n",
        "\"\"\"\n",
        "my_var = [1,2,3,4]\n",
        "num_items_per_batch = 3\n",
        "\n",
        "result = cj.group_items_in_batches(items=my_var, items_per_batch=num_items_per_batch, fill=\"cereja\")\n",
        "print(f\"fill values: {result}\")"
      ],
      "execution_count": 9,
      "outputs": [
        {
          "output_type": "stream",
          "text": [
            "fill values: [[1, 2, 3], [4, 'cereja', 'cereja']]\n"
          ],
          "name": "stdout"
        }
      ]
    },
    {
      "cell_type": "code",
      "metadata": {
        "id": "PPVLm9VNt3wj",
        "outputId": "e9aa25b9-cd9b-40d4-be07-41a0b14fd741",
        "colab": {
          "base_uri": "https://localhost:8080/",
          "height": 34
        }
      },
      "source": [
        "# Other examples\n",
        "result = cj.group_items_in_batches(items=['a','b','c','d'], items_per_batch=2)\n",
        "print(f\"Other examples: {result}\")"
      ],
      "execution_count": 10,
      "outputs": [
        {
          "output_type": "stream",
          "text": [
            "Other examples: [['a', 'b'], ['c', 'd']]\n"
          ],
          "name": "stdout"
        }
      ]
    },
    {
      "cell_type": "markdown",
      "metadata": {
        "id": "y7fcQ6WPuGkn"
      },
      "source": [
        "###remove_duplicate_items\n",
        "remove duplicates items in an item list or duplicate items list of list"
      ]
    },
    {
      "cell_type": "code",
      "metadata": {
        "id": "M9lJN5t8AMvs",
        "outputId": "fd42c574-b60b-450e-fa3b-a7450bed4462",
        "colab": {
          "base_uri": "https://localhost:8080/",
          "height": 34
        }
      },
      "source": [
        "#simple list\n",
        "my_var = [1,2,3,4,4]\n",
        "result = cj.remove_duplicate_items(my_var)\n",
        "print(f\"simple list: {my_var} --> {result}\")"
      ],
      "execution_count": 11,
      "outputs": [
        {
          "output_type": "stream",
          "text": [
            "simple list: [1, 2, 3, 4, 4] --> [1, 2, 3, 4]\n"
          ],
          "name": "stdout"
        }
      ]
    },
    {
      "cell_type": "code",
      "metadata": {
        "id": "KUVj-_W0uXxa",
        "outputId": "d139e3de-8f78-40bd-9957-2adefe2b118a",
        "colab": {
          "base_uri": "https://localhost:8080/",
          "height": 34
        }
      },
      "source": [
        "#list of list\n",
        "my_var = [[1,2,3,4,4], [1,2,3,4,4]]\n",
        "result = cj.remove_duplicate_items(my_var)\n",
        "print(f\"list of list: {my_var} --> {result}\")"
      ],
      "execution_count": 12,
      "outputs": [
        {
          "output_type": "stream",
          "text": [
            "list of list: [[1, 2, 3, 4, 4], [1, 2, 3, 4, 4]] --> [[1, 2, 3, 4, 4]]\n"
          ],
          "name": "stdout"
        }
      ]
    },
    {
      "cell_type": "code",
      "metadata": {
        "id": "vBPxDdzfujKO",
        "outputId": "2695517b-3316-4f11-8e67-19e14e625547",
        "colab": {
          "base_uri": "https://localhost:8080/",
          "height": 34
        }
      },
      "source": [
        "# other example\n",
        "my_var = [['hi'], ['hi'], ['ih']]\n",
        "result = cj.remove_duplicate_items(my_var)\n",
        "print(f\"other example: {my_var} --> {result}\")"
      ],
      "execution_count": 13,
      "outputs": [
        {
          "output_type": "stream",
          "text": [
            "other example: [['hi'], ['hi'], ['ih']] --> [['hi'], ['ih']]\n"
          ],
          "name": "stdout"
        }
      ]
    },
    {
      "cell_type": "markdown",
      "metadata": {
        "id": "KbsUISmOkRDD"
      },
      "source": [
        "###flatten\n",
        "\n",
        "Receives values, whether arrays of values, regardless of their shape and flatness"
      ]
    },
    {
      "cell_type": "code",
      "metadata": {
        "id": "mxUDUIaGkV_o",
        "outputId": "7ae66909-70c9-41cd-c7d6-e83df6bcbb7c",
        "colab": {
          "base_uri": "https://localhost:8080/",
          "height": 34
        }
      },
      "source": [
        "sequence = [[1, 2, 3], [], [[2, [3], 4], 6]]\n",
        "cj.flatten(sequence)"
      ],
      "execution_count": 14,
      "outputs": [
        {
          "output_type": "execute_result",
          "data": {
            "text/plain": [
              "[1, 2, 3, 2, 3, 4, 6]"
            ]
          },
          "metadata": {
            "tags": []
          },
          "execution_count": 14
        }
      ]
    },
    {
      "cell_type": "code",
      "metadata": {
        "id": "5uK1e-rQxcTf",
        "outputId": "5f544938-cf88-4b5f-fcce-bd403b1c88cf",
        "colab": {
          "base_uri": "https://localhost:8080/",
          "height": 34
        }
      },
      "source": [
        "sequence = [[1, 2, 3], [], [[2, [3], 4], 6]]\n",
        "cj.flatten(sequence, max_recursion=2)"
      ],
      "execution_count": 15,
      "outputs": [
        {
          "output_type": "execute_result",
          "data": {
            "text/plain": [
              "[1, 2, 3, 2, [3], 4, 6]"
            ]
          },
          "metadata": {
            "tags": []
          },
          "execution_count": 15
        }
      ]
    },
    {
      "cell_type": "markdown",
      "metadata": {
        "id": "pzo5oUytvnsG"
      },
      "source": [
        "###Freq Class\n",
        "Enumerates the amount of identical intens generating a dictionary of frequencies. Where KEY is item - the original list's item -  and VALUE is the total amount."
      ]
    },
    {
      "cell_type": "markdown",
      "metadata": {
        "id": "qOn877TQxhKW"
      },
      "source": [
        "####instance of Freq"
      ]
    },
    {
      "cell_type": "code",
      "metadata": {
        "id": "cNO-l7MKvlRG",
        "outputId": "0ae76256-b86f-47a7-a169-c3313854a3a4",
        "colab": {
          "base_uri": "https://localhost:8080/",
          "height": 34
        }
      },
      "source": [
        "# Instance\n",
        "freq = cj.Freq([1,2,3,3,4,5,6,7,6,7,12,31,123,5,3])\n",
        "print(freq)"
      ],
      "execution_count": 16,
      "outputs": [
        {
          "output_type": "stream",
          "text": [
            "Freq({1: 1, 2: 1, 3: 3, 4: 1, 5: 2, 6: 2, 7: 2, 12: 1, 31: 1, 123: 1})\n"
          ],
          "name": "stdout"
        }
      ]
    },
    {
      "cell_type": "markdown",
      "metadata": {
        "id": "ddCDXmX0xmzD"
      },
      "source": [
        "####most_freq"
      ]
    },
    {
      "cell_type": "markdown",
      "metadata": {
        "id": "MasIEXjPyD7P"
      },
      "source": [
        "returns the most frequent items from the list, the maximum number of items must be entered."
      ]
    },
    {
      "cell_type": "code",
      "metadata": {
        "id": "Sp3jZx3KxYXO",
        "outputId": "944004b5-121b-4d65-f67e-15910c87ae3c",
        "colab": {
          "base_uri": "https://localhost:8080/",
          "height": 34
        }
      },
      "source": [
        "freq = cj.Freq([1,2,3,3,4,5,6,7,6,7,12,31,123,5,3])\n",
        "freq.most_common(4)"
      ],
      "execution_count": 18,
      "outputs": [
        {
          "output_type": "execute_result",
          "data": {
            "text/plain": [
              "{3: 3, 5: 2, 6: 2, 7: 2}"
            ]
          },
          "metadata": {
            "tags": []
          },
          "execution_count": 18
        }
      ]
    },
    {
      "cell_type": "markdown",
      "metadata": {
        "id": "aErkzjfoyUgj"
      },
      "source": [
        "####least_freq\n",
        "When returning the least frequent items from the list, the maximum number of items must be entered."
      ]
    },
    {
      "cell_type": "code",
      "metadata": {
        "id": "aVkXduKezIYs",
        "outputId": "eb463062-8a06-4d60-d495-24924f3d21e8",
        "colab": {
          "base_uri": "https://localhost:8080/",
          "height": 34
        }
      },
      "source": [
        "freq = cj.Freq([1,2,3,3,4,5,6,7,6,7,12,31,123,5,3])\n",
        "freq.least_freq(4)"
      ],
      "execution_count": 19,
      "outputs": [
        {
          "output_type": "execute_result",
          "data": {
            "text/plain": [
              "{4: 1, 12: 1, 31: 1, 123: 1}"
            ]
          },
          "metadata": {
            "tags": []
          },
          "execution_count": 19
        }
      ]
    },
    {
      "cell_type": "markdown",
      "metadata": {
        "id": "yxnOWQG8XUOA"
      },
      "source": [
        "###Progress\n",
        "A simple way to display progress to the user"
      ]
    },
    {
      "cell_type": "markdown",
      "metadata": {
        "id": "0V7mg0nqi5Ot"
      },
      "source": [
        "####Example-1"
      ]
    },
    {
      "cell_type": "code",
      "metadata": {
        "id": "YMWVgjjbXqYO",
        "outputId": "55435dc3-0016-49f8-b890-829efa51ec11",
        "colab": {
          "base_uri": "https://localhost:8080/",
          "height": 67
        }
      },
      "source": [
        "import cereja as cj\n",
        "import time\n",
        "\n",
        "def process_data(i: int):\n",
        "    # simulates some processing \n",
        "    time.sleep(cj.rand_n()/max(abs(i), 1))\n",
        "\n",
        "my_iterable = range(1, 500)\n",
        "my_progress = cj.Progress(\"My Progress\")\n",
        "\n",
        "for i in my_progress(my_iterable):\n",
        "    process_data(i)"
      ],
      "execution_count": 20,
      "outputs": [
        {
          "output_type": "stream",
          "text": [
            "\u001b[31m🍒\u001b[34m My Progress \u001b[36m»\u001b[37m \u001b[37m[==============================] - 100.00% - 🕜 00:00:03 total - \u001b[32mDone! ✅\u001b[32m\u001b[37m \u001b[37m\n",
            "\n",
            "\u001b[31m🍒\u001b[34m My Progress \u001b[36m»\u001b[37m \u001b[37mCereja's console \u001b[31mout!\u001b[37m\u001b[37m\u001b[37m \u001b[37m"
          ],
          "name": "stdout"
        }
      ]
    },
    {
      "cell_type": "markdown",
      "metadata": {
        "id": "a-QUB5_xi-Cc"
      },
      "source": [
        "####Custom Display"
      ]
    },
    {
      "cell_type": "markdown",
      "metadata": {
        "id": "HqiI2fOHjeQB"
      },
      "source": [
        "Update the percentage by the end of the task"
      ]
    },
    {
      "cell_type": "code",
      "metadata": {
        "id": "zizXGDXIZr2l",
        "outputId": "9af623f2-0103-4282-917c-a1891b3b10c7",
        "colab": {
          "base_uri": "https://localhost:8080/",
          "height": 118
        }
      },
      "source": [
        "import cereja as cj\n",
        "import time\n",
        "\n",
        "progress = cj.Progress(\"My Progress\")\n",
        "print(progress)\n",
        "\n",
        "print(progress[0])\n",
        "print(progress[1])\n",
        "print(progress[2])\n",
        "\n",
        "class MyCustomState(cj.StateBase):\n",
        "    def display(self, current_value, max_value, *args, **kwargs):\n",
        "        return f'{current_value} -> {max_value}'\n",
        "    def done(self, *args, **kwargs):\n",
        "        return f'FINISHED'\n",
        "\n",
        "progress[0] = MyCustomState\n",
        "\n",
        "for i in progress(range(1, 500)):\n",
        "    time.sleep(1/i)"
      ],
      "execution_count": 21,
      "outputs": [
        {
          "output_type": "stream",
          "text": [
            "Progress('__StateBar', '__StatePercent', '__StateTime')\n",
            "\u001b[31m🍒\u001b[34m Example States View \u001b[36m»\u001b[37m \u001b[37m[==============================] - 100.00% - 🕜 -00:00:00 total - \u001b[32mDone! ✅\u001b[32m\u001b[37m \u001b[37m\n",
            "Bar field [==============================]\n",
            "Percent field 100.00%\n",
            "Time field 🕜 00:00:00 total\n",
            "\u001b[31m🍒\u001b[34m My Progress \u001b[36m»\u001b[37m \u001b[37mFINISHED - 100.00% - 🕜 00:00:06 total - \u001b[32mDone! ✅\u001b[32m\u001b[37m \u001b[37m\n"
          ],
          "name": "stdout"
        }
      ]
    },
    {
      "cell_type": "markdown",
      "metadata": {
        "id": "u-1kd_xH2Qw9"
      },
      "source": [
        "####Many tasks"
      ]
    },
    {
      "cell_type": "code",
      "metadata": {
        "id": "gIHoEUgX2QCg",
        "outputId": "aef10264-d74c-4c65-e50e-c02a7dd9941a",
        "colab": {
          "base_uri": "https://localhost:8080/",
          "height": 50
        }
      },
      "source": [
        "import time\n",
        "\n",
        "with cj.Progress(\"Progress Test\") as bar:\n",
        "    time.sleep(5) # Awaiting data!\n",
        "    for i in bar(range(1, 500), 'task-1'):\n",
        "        time.sleep(1 / i)\n",
        "        \n",
        "    # in an abstract way we identified that the previous task ended.\n",
        "    for i in bar(range(1, 400), 'task-2'):\n",
        "        time.sleep(1 / i)"
      ],
      "execution_count": 22,
      "outputs": [
        {
          "output_type": "stream",
          "text": [
            "\u001b[31m🍒\u001b[34m Progress Test(task-1) \u001b[36m»\u001b[37m \u001b[37m[==============================] - 100.00% - 🕜 00:00:06 total - \u001b[32mDone! ✅\u001b[32m\u001b[37m \u001b[37m\n",
            "\u001b[31m🍒\u001b[34m Progress Test(task-2) \u001b[36m»\u001b[37m \u001b[37m[==============================] - 100.00% - 🕜 00:00:06 total - \u001b[32mDone! ✅\u001b[32m\u001b[37m \u001b[37m\n"
          ],
          "name": "stdout"
        }
      ]
    },
    {
      "cell_type": "markdown",
      "metadata": {
        "id": "QcMtkhsCG32R"
      },
      "source": [
        "###FileTools\n",
        "Baseline of this"
      ]
    },
    {
      "cell_type": "markdown",
      "metadata": {
        "id": "0ccuC2t6HE2l"
      },
      "source": [
        "####Basics Usage"
      ]
    },
    {
      "cell_type": "code",
      "metadata": {
        "id": "2MN_3EiHHHsh",
        "outputId": "11bc9fea-9275-49e5-a3d0-b1bebf59ea4b",
        "colab": {
          "base_uri": "https://localhost:8080/",
          "height": 944
        }
      },
      "source": [
        "import cereja as cj\n",
        "\n",
        "data = ['how', 'are', 'you!']\n",
        "# Create new file\n",
        "file_ = cj.File(\"/content/new_file.txt\", data)\n",
        "\n",
        "doc = f\"\"\"\n",
        ">>> file_ = cj.File(\"/content/new_file.txt\", data)\n",
        "\n",
        ">>> file_\n",
        "{file_}\n",
        "\n",
        ">>> file_.size(unit='KB')\n",
        "{repr(file_.size(unit='KB'))}\n",
        "\n",
        ">>> file_.insert(2, ['CerejaFile'])\n",
        "{file_.insert(2, ['CerejaFile'])}\n",
        "\n",
        ">>> file_.content_file\n",
        "{repr(file_.content_file)}\n",
        "\n",
        ">>> file_.content_str\n",
        "{repr(file_.content_str)}\n",
        "\n",
        ">>> file_.size(unit='KB')\n",
        "{repr(file_.size(unit='KB'))}\n",
        "\n",
        ">>> file_.dir_name\n",
        "{repr(file_.dir_name)}\n",
        "\n",
        ">>> file_.dir_path\n",
        "{repr(file_.dir_path)}\n",
        "\n",
        ">>> file_.ext\n",
        "{repr(file_.ext)}\n",
        "\n",
        ">>> file_.file_name\n",
        "{repr(file_.file_name)}\n",
        "\n",
        ">>> file_.file_name_without_ext\n",
        "{repr(file_.file_name_without_ext)}\n",
        "\n",
        ">>> file_.is_empty\n",
        "{repr(file_.is_empty)}\n",
        "\n",
        ">>> file_.is_link\n",
        "{repr(file_.is_link)}\n",
        "\n",
        ">>> file_.line_sep\n",
        "{repr(file_.new_line_sep)}\n",
        "\n",
        ">>> file_.n_lines\n",
        "{repr(file_.n_lines)}\n",
        "\n",
        ">>> file_.path_\n",
        "{repr(file_.path)}\n",
        "\"\"\"\n",
        "print(doc)\n",
        "with cj.Progress('Saving File') as prog:\n",
        "    file_.save()"
      ],
      "execution_count": 25,
      "outputs": [
        {
          "output_type": "stream",
          "text": [
            "\n",
            ">>> file_ = cj.File(\"/content/new_file.txt\", data)\n",
            "\n",
            ">>> file_\n",
            "FileBase<new_file.txt>\n",
            "\n",
            ">>> file_.size(unit='KB')\n",
            "0.008\n",
            "\n",
            ">>> file_.insert(2, ['CerejaFile'])\n",
            "None\n",
            "\n",
            ">>> file_.content_file\n",
            "['how', 'are', 'CerejaFile', 'you!']\n",
            "\n",
            ">>> file_.content_str\n",
            "'how\\nare\\nCerejaFile\\nyou!'\n",
            "\n",
            ">>> file_.size(unit='KB')\n",
            "0.019\n",
            "\n",
            ">>> file_.dir_name\n",
            "'content'\n",
            "\n",
            ">>> file_.dir_path\n",
            "'/content'\n",
            "\n",
            ">>> file_.ext\n",
            "'.txt'\n",
            "\n",
            ">>> file_.file_name\n",
            "'new_file.txt'\n",
            "\n",
            ">>> file_.file_name_without_ext\n",
            "'new_file'\n",
            "\n",
            ">>> file_.is_empty\n",
            "False\n",
            "\n",
            ">>> file_.is_link\n",
            "False\n",
            "\n",
            ">>> file_.line_sep\n",
            "'\\n'\n",
            "\n",
            ">>> file_.n_lines\n",
            "4\n",
            "\n",
            ">>> file_.path_\n",
            "<Path object /content/new_file.txt>\n",
            "\n",
            "\r\u001b[31m🍒\u001b[34m Saving File \u001b[36m»\u001b[37m \u001b[37mAwaiting.. \u001b[37m \u001b[37m"
          ],
          "name": "stdout"
        },
        {
          "output_type": "stream",
          "text": [
            "/usr/local/lib/python3.6/dist-packages/ipykernel_launcher.py:57: DeprecationWarning: This property will be deprecated in future versions. you can use property `File.lines`\n",
            "/usr/local/lib/python3.6/dist-packages/ipykernel_launcher.py:57: DeprecationWarning: This property will be deprecated in future versions. you can use property `File.string`\n"
          ],
          "name": "stderr"
        },
        {
          "output_type": "stream",
          "text": [
            "\u001b[31m🍒\u001b[34m Saving File \u001b[36m»\u001b[37m \u001b[37m[==============================] - 100.00% - 🕜 00:00:00 total - \u001b[32mDone! ✅\u001b[32m\u001b[37m \u001b[37m\n"
          ],
          "name": "stdout"
        }
      ]
    },
    {
      "cell_type": "markdown",
      "metadata": {
        "id": "SCpqGct6BCmn"
      },
      "source": [
        "##Decorators"
      ]
    },
    {
      "cell_type": "markdown",
      "metadata": {
        "id": "5_RAxSJru0ZV"
      },
      "source": [
        "###time_exec\n",
        "used to signal or perform a particular function."
      ]
    },
    {
      "cell_type": "code",
      "metadata": {
        "id": "8faV1ZV9BN1w",
        "outputId": "9b332428-9577-47fe-b4a6-4ff04bf225ad",
        "colab": {
          "base_uri": "https://localhost:8080/",
          "height": 67
        }
      },
      "source": [
        "cj.set_log_level('INFO') # needed to see message \n",
        "@cj.time_exec\n",
        "def my_function(my_param): # Change-me\n",
        "    print(my_param)\n",
        "\n",
        "my_function(\"Hi Cereja\")"
      ],
      "execution_count": 26,
      "outputs": [
        {
          "output_type": "stream",
          "text": [
            "INFO:cereja.utils:Update log level to INFO\n",
            "Hi Cereja\n",
            "INFO:cereja.decorators:[my_function] performed 7.510185241699219e-05\n"
          ],
          "name": "stdout"
        }
      ]
    },
    {
      "cell_type": "markdown",
      "metadata": {
        "id": "BJh-p9HmF0Q-"
      },
      "source": [
        "###deprecation\n",
        "used info deprecated func"
      ]
    },
    {
      "cell_type": "code",
      "metadata": {
        "id": "TJZ4tEAuF9F-",
        "outputId": "ceb979df-49e0-4095-ff19-a58acfa2bfed",
        "colab": {
          "base_uri": "https://localhost:8080/",
          "height": 89
        }
      },
      "source": [
        "@cj.depreciation(\"path.dotted.to.alternative\")\n",
        "def foo(bar: str):\n",
        "    return f'Result of Foo -> {bar}'\n",
        "\n",
        "# simule user use func\n",
        "foo(\"Test\")"
      ],
      "execution_count": 27,
      "outputs": [
        {
          "output_type": "stream",
          "text": [
            "/usr/local/lib/python3.6/dist-packages/ipykernel_launcher.py:6: DeprecationWarning: This function will be deprecated in future versions. You can use path.dotted.to.alternative\n",
            "  \n"
          ],
          "name": "stderr"
        },
        {
          "output_type": "execute_result",
          "data": {
            "application/vnd.google.colaboratory.intrinsic+json": {
              "type": "string"
            },
            "text/plain": [
              "'Result of Foo -> Test'"
            ]
          },
          "metadata": {
            "tags": []
          },
          "execution_count": 27
        }
      ]
    },
    {
      "cell_type": "markdown",
      "metadata": {
        "id": "XTqMg2BqCutt"
      },
      "source": [
        "##Path"
      ]
    },
    {
      "cell_type": "markdown",
      "metadata": {
        "id": "UtBVEmZAvFA8"
      },
      "source": [
        "###group_path_from_dir \n",
        "returns data tuples based on the number of items entered for each tuple,\n",
        "follows the default order if no sort function is sent"
      ]
    },
    {
      "cell_type": "code",
      "metadata": {
        "id": "qxpaAczOCxCn",
        "outputId": "0c35ae6d-ffdd-4b27-bd3d-dcb2fdfd4a7e",
        "colab": {
          "base_uri": "https://localhost:8080/",
          "height": 84
        }
      },
      "source": [
        "\"\"\"\n",
        "group_path_from_dir function ...\n",
        "\n",
        "\"\"\"\n",
        "my_dir = '/content/sample_data'\n",
        "my_ext_file = '.csv'\n",
        "\n",
        "cj.group_path_from_dir(dir_path=my_dir, num_items_on_tuple=2, ext_file=my_ext_file)"
      ],
      "execution_count": 28,
      "outputs": [
        {
          "output_type": "execute_result",
          "data": {
            "text/plain": [
              "[['/content/sample_data/california_housing_test.csv',\n",
              "  '/content/sample_data/california_housing_train.csv'],\n",
              " ['/content/sample_data/mnist_test.csv',\n",
              "  '/content/sample_data/mnist_train_small.csv']]"
            ]
          },
          "metadata": {
            "tags": []
          },
          "execution_count": 28
        }
      ]
    },
    {
      "cell_type": "markdown",
      "metadata": {
        "id": "ckTiv8_kvQAA"
      },
      "source": [
        "###file_name"
      ]
    },
    {
      "cell_type": "code",
      "metadata": {
        "id": "qgiqJp8vEU-r",
        "outputId": "40a6b768-23bf-4a4a-f8c7-cbc32b336c25",
        "colab": {
          "base_uri": "https://localhost:8080/",
          "height": 50
        }
      },
      "source": [
        "my_file_path = '/content/sample_data/california_housing_test.csv'\n",
        "result = cj.file_name(file_path=my_file_path)\n",
        "print(f\"file_path: {my_file_path} --> {result}\")\n",
        "\n",
        "# or with ext\n",
        "result = cj.file_name(file_path=my_file_path, with_ext=True)\n",
        "print(f\"file_path: {my_file_path} --> {result}\")"
      ],
      "execution_count": 29,
      "outputs": [
        {
          "output_type": "stream",
          "text": [
            "file_path: /content/sample_data/california_housing_test.csv --> california_housing_test\n",
            "file_path: /content/sample_data/california_housing_test.csv --> california_housing_test.csv\n"
          ],
          "name": "stdout"
        }
      ]
    }
  ]
}