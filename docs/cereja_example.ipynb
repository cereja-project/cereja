{
  "nbformat": 4,
  "nbformat_minor": 0,
  "metadata": {
    "colab": {
      "name": "cereja_example.ipynb",
      "provenance": [],
      "collapsed_sections": [],
      "include_colab_link": true
    },
    "kernelspec": {
      "name": "python3",
      "display_name": "Python 3"
    }
  },
  "cells": [
    {
      "cell_type": "markdown",
      "metadata": {
        "id": "view-in-github",
        "colab_type": "text"
      },
      "source": [
        "<a href=\"https://colab.research.google.com/github/jlsneto/cereja/blob/master/docs/cereja_example.ipynb\" target=\"_parent\"><img src=\"https://colab.research.google.com/assets/colab-badge.svg\" alt=\"Open In Colab\"/></a>"
      ]
    },
    {
      "cell_type": "markdown",
      "metadata": {
        "id": "8OIpCsdKwlet",
        "colab_type": "text"
      },
      "source": [
        "#Install cereja"
      ]
    },
    {
      "cell_type": "code",
      "metadata": {
        "id": "B1qNEuxZwVs_",
        "colab_type": "code",
        "outputId": "b85b9e4a-2656-4e3a-e340-0c69e0347601",
        "colab": {
          "base_uri": "https://localhost:8080/",
          "height": 127
        }
      },
      "source": [
        "!pip install cereja --upgrade"
      ],
      "execution_count": 1,
      "outputs": [
        {
          "output_type": "stream",
          "text": [
            "Collecting cereja\n",
            "\u001b[?25l  Downloading https://files.pythonhosted.org/packages/24/8e/463ebc639b58081eb7abc78c4c8957e4ca3d44dff2dc660eb504c96b81d7/cereja-1.1.1-py3-none-any.whl (42kB)\n",
            "\r\u001b[K     |███████▊                        | 10kB 18.4MB/s eta 0:00:01\r\u001b[K     |███████████████▌                | 20kB 1.7MB/s eta 0:00:01\r\u001b[K     |███████████████████████▎        | 30kB 2.3MB/s eta 0:00:01\r\u001b[K     |███████████████████████████████ | 40kB 1.7MB/s eta 0:00:01\r\u001b[K     |████████████████████████████████| 51kB 1.7MB/s \n",
            "\u001b[?25hInstalling collected packages: cereja\n",
            "Successfully installed cereja-1.1.1\n"
          ],
          "name": "stdout"
        }
      ]
    },
    {
      "cell_type": "markdown",
      "metadata": {
        "id": "B-6AKLqiwuGR",
        "colab_type": "text"
      },
      "source": [
        "#Import cereja"
      ]
    },
    {
      "cell_type": "code",
      "metadata": {
        "id": "KhRIV54DxZ6Z",
        "colab_type": "code",
        "colab": {
          "base_uri": "https://localhost:8080/",
          "height": 35
        },
        "outputId": "29a739a8-a10f-4daf-8bad-5ad99e66b80b"
      },
      "source": [
        "import cereja as cj"
      ],
      "execution_count": 2,
      "outputs": [
        {
          "output_type": "stream",
          "text": [
            "\u001b[31m🍒\u001b[30m 1.1.1\n"
          ],
          "name": "stdout"
        }
      ]
    },
    {
      "cell_type": "markdown",
      "metadata": {
        "id": "_FvoFjndxKIk",
        "colab_type": "text"
      },
      "source": [
        "##Commons"
      ]
    },
    {
      "cell_type": "markdown",
      "metadata": {
        "id": "2lxP-3C2tIZB",
        "colab_type": "text"
      },
      "source": [
        "###is_iterable\n",
        "return whether an object is iterable or not."
      ]
    },
    {
      "cell_type": "code",
      "metadata": {
        "id": "w_6TLC0DxI1f",
        "colab_type": "code",
        "cellView": "both",
        "outputId": "ebae3af6-97f5-4a5d-c19d-d5ebd0fbf6f9",
        "colab": {
          "base_uri": "https://localhost:8080/",
          "height": 34
        }
      },
      "source": [
        "my_var = [1,2,3] # change value and execute the cell\n",
        "cj.is_iterable(my_var)"
      ],
      "execution_count": 0,
      "outputs": [
        {
          "output_type": "execute_result",
          "data": {
            "text/plain": [
              "True"
            ]
          },
          "metadata": {
            "tags": []
          },
          "execution_count": 3
        }
      ]
    },
    {
      "cell_type": "code",
      "metadata": {
        "id": "bSJ69PuWiYGx",
        "colab_type": "code",
        "outputId": "651c6464-051e-461f-bcab-f4862a630add",
        "colab": {
          "base_uri": "https://localhost:8080/",
          "height": 34
        }
      },
      "source": [
        "cj.is_iterable('hi')"
      ],
      "execution_count": 0,
      "outputs": [
        {
          "output_type": "execute_result",
          "data": {
            "text/plain": [
              "True"
            ]
          },
          "metadata": {
            "tags": []
          },
          "execution_count": 5
        }
      ]
    },
    {
      "cell_type": "markdown",
      "metadata": {
        "id": "rCjh0owqhhUb",
        "colab_type": "text"
      },
      "source": [
        "###is_sequence\n",
        "\n",
        "Return whether an object a Sequence or not, exclude strings."
      ]
    },
    {
      "cell_type": "code",
      "metadata": {
        "id": "tAPeDiyRhzWS",
        "colab_type": "code",
        "outputId": "e26235f6-3839-45fb-d5c9-40bda0d9382f",
        "colab": {
          "base_uri": "https://localhost:8080/",
          "height": 34
        }
      },
      "source": [
        "cj.is_sequence([1,2,3])"
      ],
      "execution_count": 0,
      "outputs": [
        {
          "output_type": "execute_result",
          "data": {
            "text/plain": [
              "True"
            ]
          },
          "metadata": {
            "tags": []
          },
          "execution_count": 6
        }
      ]
    },
    {
      "cell_type": "code",
      "metadata": {
        "id": "QrFmt6iOicEL",
        "colab_type": "code",
        "outputId": "c9127954-ba53-4ad7-ec95-e3730ce826f0",
        "colab": {
          "base_uri": "https://localhost:8080/",
          "height": 34
        }
      },
      "source": [
        "cj.is_sequence('hi')"
      ],
      "execution_count": 0,
      "outputs": [
        {
          "output_type": "execute_result",
          "data": {
            "text/plain": [
              "False"
            ]
          },
          "metadata": {
            "tags": []
          },
          "execution_count": 7
        }
      ]
    },
    {
      "cell_type": "markdown",
      "metadata": {
        "id": "q88o7iwCinDY",
        "colab_type": "text"
      },
      "source": [
        "###theta_angle\n",
        "\n",
        "Calculates and returns theta angle between two vectors"
      ]
    },
    {
      "cell_type": "code",
      "metadata": {
        "id": "f547KjDWisWw",
        "colab_type": "code",
        "outputId": "9e3eba10-c195-4b4a-9c36-86f1d377e390",
        "colab": {
          "base_uri": "https://localhost:8080/",
          "height": 34
        }
      },
      "source": [
        "u = (2,2)\n",
        "v = (0, -2)\n",
        "cj.theta_angle(u, v)"
      ],
      "execution_count": 0,
      "outputs": [
        {
          "output_type": "execute_result",
          "data": {
            "text/plain": [
              "135.0"
            ]
          },
          "metadata": {
            "tags": []
          },
          "execution_count": 7
        }
      ]
    },
    {
      "cell_type": "markdown",
      "metadata": {
        "id": "Ho09h5KStktn",
        "colab_type": "text"
      },
      "source": [
        "###group_items_in_batches\n",
        "responsible for grouping items in batch taking into account the quantity of items per batch"
      ]
    },
    {
      "cell_type": "code",
      "metadata": {
        "id": "TXgvv3b2y1A9",
        "colab_type": "code",
        "outputId": "4f31f0b8-68b1-469d-fb5b-968a7b4eeaed",
        "colab": {
          "base_uri": "https://localhost:8080/",
          "height": 34
        }
      },
      "source": [
        "my_var = [1,2,3,4]\n",
        "num_items_per_batch = 4\n",
        "result = cj.group_items_in_batches(items=my_var, items_per_batch=num_items_per_batch)\n",
        "print(f\"items per batch with leftovers: {result}\")"
      ],
      "execution_count": 0,
      "outputs": [
        {
          "output_type": "stream",
          "text": [
            "items per batch with leftovers: [[1, 2, 3, 4]]\n"
          ],
          "name": "stdout"
        }
      ]
    },
    {
      "cell_type": "code",
      "metadata": {
        "id": "YWvTGuECtwHj",
        "colab_type": "code",
        "outputId": "1e61683b-e583-4a25-b11d-8e25d4060ecd",
        "colab": {
          "base_uri": "https://localhost:8080/",
          "height": 34
        }
      },
      "source": [
        "\"\"\"\n",
        "Note that the last batch does not contain the same number as the previous batch,\n",
        "this is due to the split split. You can choose to fill this void as in the example below.\n",
        "\"\"\"\n",
        "my_var = [1,2,3,4]\n",
        "num_items_per_batch = 3\n",
        "\n",
        "result = cj.group_items_in_batches(items=my_var, items_per_batch=num_items_per_batch, fill=\"cereja\")\n",
        "print(f\"fill values: {result}\")"
      ],
      "execution_count": 0,
      "outputs": [
        {
          "output_type": "stream",
          "text": [
            "fill values: [[1, 2, 3], [4, 'cereja', 'cereja']]\n"
          ],
          "name": "stdout"
        }
      ]
    },
    {
      "cell_type": "code",
      "metadata": {
        "id": "PPVLm9VNt3wj",
        "colab_type": "code",
        "outputId": "8756924d-da77-4543-e4f0-98ac2c648144",
        "colab": {
          "base_uri": "https://localhost:8080/",
          "height": 34
        }
      },
      "source": [
        "# Other examples\n",
        "result = cj.group_items_in_batches(items=['a','b','c','d'], items_per_batch=2)\n",
        "print(f\"Other examples: {result}\")"
      ],
      "execution_count": 0,
      "outputs": [
        {
          "output_type": "stream",
          "text": [
            "Other examples: [['a', 'b'], ['c', 'd']]\n"
          ],
          "name": "stdout"
        }
      ]
    },
    {
      "cell_type": "markdown",
      "metadata": {
        "id": "y7fcQ6WPuGkn",
        "colab_type": "text"
      },
      "source": [
        "###remove_duplicate_items\n",
        "remove duplicates items in an item list or duplicate items list of list"
      ]
    },
    {
      "cell_type": "code",
      "metadata": {
        "id": "M9lJN5t8AMvs",
        "colab_type": "code",
        "outputId": "6d64740a-dc18-4f0a-b550-a79bbb595b41",
        "colab": {
          "base_uri": "https://localhost:8080/",
          "height": 34
        }
      },
      "source": [
        "#simple list\n",
        "my_var = [1,2,3,4,4]\n",
        "result = cj.remove_duplicate_items(my_var)\n",
        "print(f\"simple list: {my_var} --> {result}\")"
      ],
      "execution_count": 0,
      "outputs": [
        {
          "output_type": "stream",
          "text": [
            "simple list: [1, 2, 3, 4, 4] --> [1, 2, 3, 4]\n"
          ],
          "name": "stdout"
        }
      ]
    },
    {
      "cell_type": "code",
      "metadata": {
        "id": "KUVj-_W0uXxa",
        "colab_type": "code",
        "outputId": "11c0c0e9-9a5c-4e8b-ce47-d106cc4e0994",
        "colab": {
          "base_uri": "https://localhost:8080/",
          "height": 34
        }
      },
      "source": [
        "#list of list\n",
        "my_var = [[1,2,3,4,4], [1,2,3,4,4]]\n",
        "result = cj.remove_duplicate_items(my_var)\n",
        "print(f\"list of list: {my_var} --> {result}\")"
      ],
      "execution_count": 0,
      "outputs": [
        {
          "output_type": "stream",
          "text": [
            "list of list: [[1, 2, 3, 4, 4], [1, 2, 3, 4, 4]] --> [[1, 2, 3, 4, 4]]\n"
          ],
          "name": "stdout"
        }
      ]
    },
    {
      "cell_type": "code",
      "metadata": {
        "id": "vBPxDdzfujKO",
        "colab_type": "code",
        "outputId": "3f2efd4d-6862-460f-ca16-6b92f84c9c8e",
        "colab": {
          "base_uri": "https://localhost:8080/",
          "height": 34
        }
      },
      "source": [
        "# other example\n",
        "my_var = [['hi'], ['hi'], ['ih']]\n",
        "result = cj.remove_duplicate_items(my_var)\n",
        "print(f\"other example: {my_var} --> {result}\")"
      ],
      "execution_count": 0,
      "outputs": [
        {
          "output_type": "stream",
          "text": [
            "other example: [['hi'], ['hi'], ['ih']] --> [['hi'], ['ih']]\n"
          ],
          "name": "stdout"
        }
      ]
    },
    {
      "cell_type": "markdown",
      "metadata": {
        "id": "KbsUISmOkRDD",
        "colab_type": "text"
      },
      "source": [
        "###flatten\n",
        "\n",
        "Receives values, whether arrays of values, regardless of their shape and flatness"
      ]
    },
    {
      "cell_type": "code",
      "metadata": {
        "id": "mxUDUIaGkV_o",
        "colab_type": "code",
        "outputId": "084c049f-77f1-4ffb-c220-60c7ed95e0a4",
        "colab": {
          "base_uri": "https://localhost:8080/",
          "height": 34
        }
      },
      "source": [
        "sequence = [[1, 2, 3], [], [[2, [3], 4], 6]]\n",
        "cj.flatten(sequence)"
      ],
      "execution_count": 0,
      "outputs": [
        {
          "output_type": "execute_result",
          "data": {
            "text/plain": [
              "[1, 2, 3, 2, 3, 4, 6]"
            ]
          },
          "metadata": {
            "tags": []
          },
          "execution_count": 14
        }
      ]
    },
    {
      "cell_type": "code",
      "metadata": {
        "id": "5uK1e-rQxcTf",
        "colab_type": "code",
        "outputId": "2f103f1e-e7da-4774-b13f-aacc919e42d0",
        "colab": {
          "base_uri": "https://localhost:8080/",
          "height": 34
        }
      },
      "source": [
        "sequence = [[1, 2, 3], [], [[2, [3], 4], 6]]\n",
        "cj.flatten(sequence, max_recursion=2)"
      ],
      "execution_count": 0,
      "outputs": [
        {
          "output_type": "execute_result",
          "data": {
            "text/plain": [
              "[1, 2, 3, 2, [3], 4, 6]"
            ]
          },
          "metadata": {
            "tags": []
          },
          "execution_count": 15
        }
      ]
    },
    {
      "cell_type": "markdown",
      "metadata": {
        "id": "pzo5oUytvnsG",
        "colab_type": "text"
      },
      "source": [
        "###Freq Class\n",
        "Enumerates the amount of identical intens generating a dictionary of frequencies. Where KEY is item - the original list's item -  and VALUE is the total amount."
      ]
    },
    {
      "cell_type": "markdown",
      "metadata": {
        "id": "qOn877TQxhKW",
        "colab_type": "text"
      },
      "source": [
        "####instance of Freq"
      ]
    },
    {
      "cell_type": "code",
      "metadata": {
        "id": "cNO-l7MKvlRG",
        "colab_type": "code",
        "outputId": "b91d4ac7-710e-46d9-ffda-cfc1e48d98fc",
        "colab": {
          "base_uri": "https://localhost:8080/",
          "height": 51
        }
      },
      "source": [
        "# Instance\n",
        "freq = cj.Freq([1,2,3,3,4,5,6,7,6,7,12,31,123,5,3])\n",
        "print(freq)"
      ],
      "execution_count": 0,
      "outputs": [
        {
          "output_type": "stream",
          "text": [
            "WARNING:cereja.common:[!] class still under development\n",
            "{3: 3, 5: 2, 6: 2, 7: 2, 1: 1, 2: 1, 4: 1, 12: 1, 31: 1, 123: 1}\n"
          ],
          "name": "stdout"
        }
      ]
    },
    {
      "cell_type": "markdown",
      "metadata": {
        "id": "ddCDXmX0xmzD",
        "colab_type": "text"
      },
      "source": [
        "####most_freq"
      ]
    },
    {
      "cell_type": "markdown",
      "metadata": {
        "id": "MasIEXjPyD7P",
        "colab_type": "text"
      },
      "source": [
        "returns the most frequent items from the list, the maximum number of items must be entered."
      ]
    },
    {
      "cell_type": "code",
      "metadata": {
        "id": "Sp3jZx3KxYXO",
        "colab_type": "code",
        "outputId": "53514344-64ac-4361-a235-cf0bb3329ad1",
        "colab": {
          "base_uri": "https://localhost:8080/",
          "height": 51
        }
      },
      "source": [
        "freq = cj.Freq([1,2,3,3,4,5,6,7,6,7,12,31,123,5,3])\n",
        "freq.most_freq(4)"
      ],
      "execution_count": 0,
      "outputs": [
        {
          "output_type": "stream",
          "text": [
            "WARNING:cereja.common:[!] class still under development\n"
          ],
          "name": "stdout"
        },
        {
          "output_type": "execute_result",
          "data": {
            "text/plain": [
              "{3: 3, 5: 2, 6: 2, 7: 2}"
            ]
          },
          "metadata": {
            "tags": []
          },
          "execution_count": 17
        }
      ]
    },
    {
      "cell_type": "markdown",
      "metadata": {
        "id": "aErkzjfoyUgj",
        "colab_type": "text"
      },
      "source": [
        "####least_freq\n",
        "When returning the least frequent items from the list, the maximum number of items must be entered."
      ]
    },
    {
      "cell_type": "code",
      "metadata": {
        "id": "aVkXduKezIYs",
        "colab_type": "code",
        "outputId": "4061fa9d-7fc0-4622-8c82-d13c2f65f328",
        "colab": {
          "base_uri": "https://localhost:8080/",
          "height": 51
        }
      },
      "source": [
        "freq = cj.Freq([1,2,3,3,4,5,6,7,6,7,12,31,123,5,3])\n",
        "freq.least_freq(4)"
      ],
      "execution_count": 0,
      "outputs": [
        {
          "output_type": "stream",
          "text": [
            "WARNING:cereja.common:[!] class still under development\n"
          ],
          "name": "stdout"
        },
        {
          "output_type": "execute_result",
          "data": {
            "text/plain": [
              "{4: 1, 12: 1, 31: 1, 123: 1}"
            ]
          },
          "metadata": {
            "tags": []
          },
          "execution_count": 18
        }
      ]
    },
    {
      "cell_type": "markdown",
      "metadata": {
        "id": "yxnOWQG8XUOA",
        "colab_type": "text"
      },
      "source": [
        "###Progress\n",
        "A simple way to display progress to the user"
      ]
    },
    {
      "cell_type": "markdown",
      "metadata": {
        "id": "0V7mg0nqi5Ot",
        "colab_type": "text"
      },
      "source": [
        "####Loading"
      ]
    },
    {
      "cell_type": "markdown",
      "metadata": {
        "id": "I82KgzCNjspd",
        "colab_type": "text"
      },
      "source": [
        "If you just need to inform the user that you are processing something"
      ]
    },
    {
      "cell_type": "code",
      "metadata": {
        "id": "YMWVgjjbXqYO",
        "colab_type": "code",
        "outputId": "15cc0d5f-4115-4300-f5cc-2ab88483f1cd",
        "colab": {
          "base_uri": "https://localhost:8080/",
          "height": 91
        }
      },
      "source": [
        "import time\n",
        "\n",
        "# Use to wait for some data that can be time consuming, but you don't know how long\n",
        "with cj.Progress(\"Processing Test\") as prog:\n",
        "    for i in range(1, 101):\n",
        "        # You don't need to do anything else\n",
        "\n",
        "        # simulating waiting for processing\n",
        "        time.sleep(1/i)"
      ],
      "execution_count": 6,
      "outputs": [
        {
          "output_type": "stream",
          "text": [
            "\u001b[31m🍒\u001b[34m Processing Test \u001b[36m»\u001b[37m \u001b[37m[...] 100% - \u001b[32m✅ Done!\u001b[37m - 🕜 Total: 5.21s\u001b[37m \u001b[37m\n",
            "\n",
            "\u001b[31m🍒\u001b[34m Cereja \u001b[36m»\u001b[37m \u001b[37mCereja's console \u001b[31mout!\u001b[37m\u001b[37m\u001b[37m \u001b[37m\n"
          ],
          "name": "stdout"
        }
      ]
    },
    {
      "cell_type": "markdown",
      "metadata": {
        "id": "a-QUB5_xi-Cc",
        "colab_type": "text"
      },
      "source": [
        "####Default Progress"
      ]
    },
    {
      "cell_type": "markdown",
      "metadata": {
        "id": "HqiI2fOHjeQB",
        "colab_type": "text"
      },
      "source": [
        "Update the percentage by the end of the task"
      ]
    },
    {
      "cell_type": "code",
      "metadata": {
        "id": "zizXGDXIZr2l",
        "colab_type": "code",
        "outputId": "26efee6f-b27f-47a7-8de3-e297137e6904",
        "colab": {
          "base_uri": "https://localhost:8080/",
          "height": 91
        }
      },
      "source": [
        "import time\n",
        "\n",
        "# Use to wait for some data that can be time consuming, but you don't know how long\n",
        "with cj.Progress(\"Loading Test With Percent\") as prog:\n",
        "    for i in range(1, 101):\n",
        "\n",
        "        # simulating waiting for processing\n",
        "        time.sleep(1/i)\n",
        "        \n",
        "        # You just need to update the percentage\n",
        "        prog.update(current_value=i)"
      ],
      "execution_count": 7,
      "outputs": [
        {
          "output_type": "stream",
          "text": [
            "\u001b[31m🍒\u001b[34m Loading Test With Percent \u001b[36m»\u001b[37m \u001b[37m[...] 100% - \u001b[32m✅ Done!\u001b[37m - 🕜 Total: 5.21s\u001b[37m \u001b[37m\n",
            "\n",
            "\u001b[31m🍒\u001b[34m Cereja \u001b[36m»\u001b[37m \u001b[37mCereja's console \u001b[31mout!\u001b[37m\u001b[37m\u001b[37m \u001b[37m\n"
          ],
          "name": "stdout"
        }
      ]
    },
    {
      "cell_type": "markdown",
      "metadata": {
        "id": "lNFNYcXej-EV",
        "colab_type": "text"
      },
      "source": [
        "####Progress Bar"
      ]
    },
    {
      "cell_type": "markdown",
      "metadata": {
        "id": "tweDNzEMkAIA",
        "colab_type": "text"
      },
      "source": [
        "This is classic"
      ]
    },
    {
      "cell_type": "code",
      "metadata": {
        "id": "OTHG0NRTaAfz",
        "colab_type": "code",
        "outputId": "1497f381-5d6a-4990-872f-436aa9d10e1e",
        "colab": {
          "base_uri": "https://localhost:8080/",
          "height": 91
        }
      },
      "source": [
        "import time\n",
        "\n",
        "# Use to wait for some data that can be time consuming, but you don't know how long\n",
        "with cj.Progress(\"Progress Bar Test\", style=\"bar\") as prog:\n",
        "    for i in range(1, 101):\n",
        "\n",
        "        # simulating waiting for processing\n",
        "        time.sleep(1/i)\n",
        "\n",
        "        # You just need to update the percentage\n",
        "        prog.update(current_value=i)"
      ],
      "execution_count": 9,
      "outputs": [
        {
          "output_type": "stream",
          "text": [
            "\u001b[31m🍒\u001b[34m Progress Bar Test \u001b[36m»\u001b[37m \u001b[37m[==============================] 100% - \u001b[32m✅ Done!\u001b[37m - 🕜 Total: 5.2s\u001b[37m \u001b[37m\n",
            "\n",
            "\u001b[31m🍒\u001b[34m Cereja \u001b[36m»\u001b[37m \u001b[37mCereja's console \u001b[31mout!\u001b[37m\u001b[37m\u001b[37m \u001b[37m\n"
          ],
          "name": "stdout"
        }
      ]
    },
    {
      "cell_type": "markdown",
      "metadata": {
        "id": "u-1kd_xH2Qw9",
        "colab_type": "text"
      },
      "source": [
        "####Many tasks"
      ]
    },
    {
      "cell_type": "code",
      "metadata": {
        "id": "gIHoEUgX2QCg",
        "colab_type": "code",
        "outputId": "10c6e29d-1623-4686-ab04-cc5eaa423447",
        "colab": {
          "base_uri": "https://localhost:8080/",
          "height": 109
        }
      },
      "source": [
        "import time\n",
        "\n",
        "with cj.Progress(task_name=\"Progress Bar Test\", max_value=500) as bar:\n",
        "    for i in range(1, 500):\n",
        "        time.sleep(1 / i)\n",
        "        bar.update(i)\n",
        "        \n",
        "    # in an abstract way we identified that the previous task ended.\n",
        "    for i in range(1, 400):\n",
        "        time.sleep(1 / i)\n",
        "        bar.update(i, max_value=400)"
      ],
      "execution_count": 10,
      "outputs": [
        {
          "output_type": "stream",
          "text": [
            "\u001b[31m🍒\u001b[34m Progress Bar Test \u001b[36m»\u001b[37m \u001b[37m[...] 100% - \u001b[32m✅ Done!\u001b[37m - 🕜 Estimated: 0.02s\u001b[37m \u001b[37m\n",
            "\u001b[31m🍒\u001b[34m Progress Bar Test \u001b[36m»\u001b[37m \u001b[37m[...] 100% - \u001b[32m✅ Done!\u001b[37m - 🕜 Total: 5.62s\u001b[37m \u001b[37m\n",
            "\n",
            "\u001b[31m🍒\u001b[34m Cereja \u001b[36m»\u001b[37m \u001b[37mCereja's console \u001b[31mout!\u001b[37m\u001b[37m\u001b[37m \u001b[37m\n"
          ],
          "name": "stdout"
        }
      ]
    },
    {
      "cell_type": "markdown",
      "metadata": {
        "id": "Js2irOqfyjR2",
        "colab_type": "text"
      },
      "source": [
        "####Without with statment\n",
        "\n",
        "\n",
        "\n"
      ]
    },
    {
      "cell_type": "code",
      "metadata": {
        "id": "XrIryag01IRt",
        "colab_type": "code",
        "outputId": "501364e4-5e14-48bd-d285-d51fdde6508a",
        "colab": {
          "base_uri": "https://localhost:8080/",
          "height": 163
        }
      },
      "source": [
        "import time\n",
        "\n",
        "bar = cj.Progress()\n",
        "\n",
        "# Init First Task\n",
        "bar.start()\n",
        "for i in range(1, 500):\n",
        "    time.sleep(1 / i)\n",
        "    bar.update(i, max_value=500)\n",
        "bar.stop()\n",
        "\n",
        "# Init Second task\n",
        "bar.start()\n",
        "for i in range(1, 400):\n",
        "    time.sleep(1 / i)\n",
        "    bar.update(i, max_value=400)\n",
        "bar.stop()"
      ],
      "execution_count": 12,
      "outputs": [
        {
          "output_type": "stream",
          "text": [
            "\u001b[31m🍒\u001b[34m Progress Tool \u001b[36m»\u001b[37m \u001b[37m[...] 100% - \u001b[32m✅ Done!\u001b[37m - 🕜 Total: 6.85s\u001b[37m \u001b[37m\n",
            "\n",
            "\u001b[31m🍒\u001b[34m Cereja \u001b[36m»\u001b[37m \u001b[37mCereja's console \u001b[31mout!\u001b[37m\u001b[37m\u001b[37m \u001b[37m\n",
            "\u001b[31m🍒\u001b[34m Progress Tool \u001b[36m»\u001b[37m \u001b[37m[...] 100% - \u001b[32m✅ Done!\u001b[37m - 🕜 Estimated: 0.0s\u001b[37m \u001b[37m\n",
            "\u001b[31m🍒\u001b[34m Progress Tool \u001b[36m»\u001b[37m \u001b[37m[...] 100% - \u001b[32m✅ Done!\u001b[37m - 🕜 Total: 5.62s\u001b[37m \u001b[37m\n",
            "\n",
            "\u001b[31m🍒\u001b[34m Cereja \u001b[36m»\u001b[37m \u001b[37mCereja's console \u001b[31mout!\u001b[37m\u001b[37m\u001b[37m \u001b[37m\n"
          ],
          "name": "stdout"
        }
      ]
    },
    {
      "cell_type": "markdown",
      "metadata": {
        "id": "SCpqGct6BCmn",
        "colab_type": "text"
      },
      "source": [
        "##Decorators"
      ]
    },
    {
      "cell_type": "markdown",
      "metadata": {
        "id": "5_RAxSJru0ZV",
        "colab_type": "text"
      },
      "source": [
        "###time_exec\n",
        "used to signal or perform a particular function."
      ]
    },
    {
      "cell_type": "code",
      "metadata": {
        "id": "8faV1ZV9BN1w",
        "colab_type": "code",
        "outputId": "cd972d06-0170-47d4-b935-cd08037f727f",
        "colab": {
          "base_uri": "https://localhost:8080/",
          "height": 91
        }
      },
      "source": [
        "cj.set_log_level('INFO') # needed to see message \n",
        "@cj.time_exec\n",
        "def my_function(my_param): # Change-me\n",
        "    print(my_param)\n",
        "\n",
        "my_function(\"Hi Cereja\")"
      ],
      "execution_count": 13,
      "outputs": [
        {
          "output_type": "stream",
          "text": [
            "INFO:cereja.utils:Update log level to INFO\n",
            "Hi Cereja\n",
            "INFO:cereja.decorators:[my_function] performed 0.0004963874816894531\n"
          ],
          "name": "stdout"
        }
      ]
    },
    {
      "cell_type": "markdown",
      "metadata": {
        "id": "XTqMg2BqCutt",
        "colab_type": "text"
      },
      "source": [
        "##Path"
      ]
    },
    {
      "cell_type": "markdown",
      "metadata": {
        "id": "UtBVEmZAvFA8",
        "colab_type": "text"
      },
      "source": [
        "###group_path_from_dir \n",
        "returns data tuples based on the number of items entered for each tuple,\n",
        "follows the default order if no sort function is sent"
      ]
    },
    {
      "cell_type": "code",
      "metadata": {
        "id": "qxpaAczOCxCn",
        "colab_type": "code",
        "outputId": "f71622a2-8899-469e-e40c-6fb1b9aecd79",
        "colab": {
          "base_uri": "https://localhost:8080/",
          "height": 109
        }
      },
      "source": [
        "\"\"\"\n",
        "group_path_from_dir function ...\n",
        "\n",
        "\"\"\"\n",
        "my_dir = '/content/sample_data'\n",
        "my_ext_file = '.csv'\n",
        "\n",
        "cj.group_path_from_dir(dir_path=my_dir, num_items_on_tuple=2, ext_file=my_ext_file)"
      ],
      "execution_count": 14,
      "outputs": [
        {
          "output_type": "execute_result",
          "data": {
            "text/plain": [
              "[['/content/sample_data/california_housing_test.csv',\n",
              "  '/content/sample_data/california_housing_train.csv'],\n",
              " ['/content/sample_data/mnist_test.csv',\n",
              "  '/content/sample_data/mnist_train_small.csv']]"
            ]
          },
          "metadata": {
            "tags": []
          },
          "execution_count": 14
        }
      ]
    },
    {
      "cell_type": "markdown",
      "metadata": {
        "id": "ckTiv8_kvQAA",
        "colab_type": "text"
      },
      "source": [
        "###file_name"
      ]
    },
    {
      "cell_type": "code",
      "metadata": {
        "id": "qgiqJp8vEU-r",
        "colab_type": "code",
        "outputId": "5cf66ddd-7bdc-439d-b274-1110c44ed1b7",
        "colab": {
          "base_uri": "https://localhost:8080/",
          "height": 51
        }
      },
      "source": [
        "my_file_path = '/content/sample_data/california_housing_test.csv'\n",
        "result = cj.file_name(file_path=my_file_path)\n",
        "print(f\"file_path: {my_file_path} --> {result}\")\n",
        "\n",
        "# or with ext\n",
        "result = cj.file_name(file_path=my_file_path, with_ext=True)\n",
        "print(f\"file_path: {my_file_path} --> {result}\")"
      ],
      "execution_count": 0,
      "outputs": [
        {
          "output_type": "stream",
          "text": [
            "file_path: /content/sample_data/california_housing_test.csv --> california_housing_test\n",
            "file_path: /content/sample_data/california_housing_test.csv --> california_housing_test.csv\n"
          ],
          "name": "stdout"
        }
      ]
    }
  ]
}